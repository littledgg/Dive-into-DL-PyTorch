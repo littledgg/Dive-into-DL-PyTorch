{
 "cells": [
  {
   "cell_type": "markdown",
   "source": [
    "# 3.7 softmax回归的简洁实现"
   ],
   "metadata": {}
  },
  {
   "cell_type": "code",
   "execution_count": 1,
   "source": [
    "import torch\r\n",
    "from torch import nn\r\n",
    "from torch.nn import init\r\n",
    "import numpy as np\r\n",
    "import sys\r\n",
    "sys.path.append(\"..\") \r\n",
    "import d2lzh_pytorch as d2l\r\n",
    "\r\n",
    "print(torch.__version__)"
   ],
   "outputs": [
    {
     "output_type": "stream",
     "name": "stdout",
     "text": [
      "1.8.0\n"
     ]
    }
   ],
   "metadata": {}
  },
  {
   "cell_type": "markdown",
   "source": [
    "## 3.7.1 获取和读取数据"
   ],
   "metadata": {}
  },
  {
   "cell_type": "code",
   "execution_count": 2,
   "source": [
    "batch_size = 256\r\n",
    "train_iter, test_iter = d2l.load_data_fashion_mnist(batch_size)"
   ],
   "outputs": [],
   "metadata": {
    "collapsed": true
   }
  },
  {
   "cell_type": "markdown",
   "source": [
    "## 3.7.2 定义和初始化模型"
   ],
   "metadata": {}
  },
  {
   "cell_type": "code",
   "execution_count": 3,
   "source": [
    "num_inputs = 784\r\n",
    "num_outputs = 10\r\n",
    "\r\n",
    "# class LinearNet(nn.Module):\r\n",
    "#     def __init__(self, num_inputs, num_outputs):\r\n",
    "#         super(LinearNet, self).__init__()\r\n",
    "#         self.linear = nn.Linear(num_inputs, num_outputs)\r\n",
    "#     def forward(self, x): # x shape: (batch, 1, 28, 28)\r\n",
    "#         y = self.linear(x.view(x.shape[0], -1))\r\n",
    "#         return y\r\n",
    "    \r\n",
    "# net = LinearNet(num_inputs, num_outputs)\r\n",
    "\r\n",
    "class FlattenLayer(nn.Module):\r\n",
    "    def __init__(self):\r\n",
    "        super(FlattenLayer, self).__init__()\r\n",
    "    def forward(self, x): # x shape: (batch, *, *, ...)\r\n",
    "        return x.view(x.shape[0], -1)\r\n",
    "\r\n",
    "from collections import OrderedDict\r\n",
    "net = nn.Sequential(\r\n",
    "        # FlattenLayer(),\r\n",
    "        # nn.Linear(num_inputs, num_outputs)\r\n",
    "        OrderedDict([\r\n",
    "          ('flatten', FlattenLayer()),\r\n",
    "          ('linear', nn.Linear(num_inputs, num_outputs))])\r\n",
    "        )"
   ],
   "outputs": [],
   "metadata": {}
  },
  {
   "cell_type": "code",
   "execution_count": 4,
   "source": [
    "init.normal_(net.linear.weight, mean=0, std=0.01)\r\n",
    "init.constant_(net.linear.bias, val=0) "
   ],
   "outputs": [
    {
     "output_type": "execute_result",
     "data": {
      "text/plain": [
       "Parameter containing:\n",
       "tensor([0., 0., 0., 0., 0., 0., 0., 0., 0., 0.], requires_grad=True)"
      ]
     },
     "metadata": {},
     "execution_count": 4
    }
   ],
   "metadata": {}
  },
  {
   "cell_type": "markdown",
   "source": [
    "## 3.7.3 softmax和交叉熵损失函数"
   ],
   "metadata": {}
  },
  {
   "cell_type": "code",
   "execution_count": 5,
   "source": [
    "loss = nn.CrossEntropyLoss()"
   ],
   "outputs": [],
   "metadata": {
    "collapsed": true
   }
  },
  {
   "cell_type": "markdown",
   "source": [
    "## 3.7.4 定义优化算法"
   ],
   "metadata": {}
  },
  {
   "cell_type": "code",
   "execution_count": 6,
   "source": [
    "optimizer = torch.optim.SGD(net.parameters(), lr=0.1)"
   ],
   "outputs": [],
   "metadata": {
    "collapsed": true
   }
  },
  {
   "cell_type": "markdown",
   "source": [
    "## 3.7.5 训练模型"
   ],
   "metadata": {}
  },
  {
   "cell_type": "code",
   "execution_count": 7,
   "source": [
    "num_epochs = 5\r\n",
    "d2l.train_ch3(net, train_iter, test_iter, loss, num_epochs, batch_size, None, None, optimizer)"
   ],
   "outputs": [
    {
     "output_type": "stream",
     "name": "stdout",
     "text": [
      "epoch 1, loss 0.0031, train acc 0.748, test acc 0.785\n",
      "epoch 2, loss 0.0022, train acc 0.813, test acc 0.802\n",
      "epoch 3, loss 0.0021, train acc 0.824, test acc 0.808\n",
      "epoch 4, loss 0.0020, train acc 0.833, test acc 0.824\n",
      "epoch 5, loss 0.0019, train acc 0.837, test acc 0.806\n"
     ]
    }
   ],
   "metadata": {}
  }
 ],
 "metadata": {
  "kernelspec": {
   "name": "python3",
   "display_name": "Python 3.8.8 64-bit ('ai': conda)"
  },
  "language_info": {
   "codemirror_mode": {
    "name": "ipython",
    "version": 3
   },
   "file_extension": ".py",
   "mimetype": "text/x-python",
   "name": "python",
   "nbconvert_exporter": "python",
   "pygments_lexer": "ipython3",
   "version": "3.8.8"
  },
  "interpreter": {
   "hash": "9a218fb6fa014a8f72ce325aebf04a6f21a0e826936a53fcb85ad8c9407f4dc2"
  }
 },
 "nbformat": 4,
 "nbformat_minor": 2
}