{
 "cells": [
  {
   "cell_type": "markdown",
   "source": [
    "# 3.10 多层感知机的简洁实现"
   ],
   "metadata": {}
  },
  {
   "cell_type": "code",
   "execution_count": 1,
   "source": [
    "import torch\r\n",
    "from torch import nn\r\n",
    "from torch.nn import init\r\n",
    "import numpy as np\r\n",
    "import sys\r\n",
    "sys.path.append(\"..\") \r\n",
    "import d2lzh_pytorch as d2l\r\n",
    "\r\n",
    "print(torch.__version__)"
   ],
   "outputs": [
    {
     "output_type": "stream",
     "name": "stdout",
     "text": [
      "1.8.0\n"
     ]
    }
   ],
   "metadata": {}
  },
  {
   "cell_type": "markdown",
   "source": [
    "## 3.10.1 定义模型"
   ],
   "metadata": {}
  },
  {
   "cell_type": "code",
   "execution_count": 2,
   "source": [
    "num_inputs, num_outputs, num_hiddens = 784, 10, 256\r\n",
    "    \r\n",
    "net = nn.Sequential(\r\n",
    "        d2l.FlattenLayer(),\r\n",
    "        nn.Linear(num_inputs, num_hiddens),\r\n",
    "        nn.ReLU(),\r\n",
    "        nn.Linear(num_hiddens, num_outputs), \r\n",
    "        )\r\n",
    "    \r\n",
    "for params in net.parameters():\r\n",
    "    init.normal_(params, mean=0, std=0.01)"
   ],
   "outputs": [],
   "metadata": {
    "collapsed": true
   }
  },
  {
   "cell_type": "markdown",
   "source": [
    "## 3.10.2 读取数据并训练模型"
   ],
   "metadata": {}
  },
  {
   "cell_type": "code",
   "execution_count": 3,
   "source": [
    "batch_size = 256\n",
    "train_iter, test_iter = d2l.load_data_fashion_mnist(batch_size)\n",
    "loss = torch.nn.CrossEntropyLoss()\n",
    "\n",
    "optimizer = torch.optim.SGD(net.parameters(), lr=0.5)\n",
    "\n",
    "num_epochs = 5\n",
    "d2l.train_ch3(net, train_iter, test_iter, loss, num_epochs, batch_size, None, None, optimizer)"
   ],
   "outputs": [
    {
     "output_type": "stream",
     "name": "stdout",
     "text": [
      "epoch 1, loss 0.0031, train acc 0.703, test acc 0.757\n",
      "epoch 2, loss 0.0019, train acc 0.824, test acc 0.822\n",
      "epoch 3, loss 0.0016, train acc 0.845, test acc 0.825\n",
      "epoch 4, loss 0.0015, train acc 0.855, test acc 0.811\n",
      "epoch 5, loss 0.0014, train acc 0.865, test acc 0.846\n"
     ]
    }
   ],
   "metadata": {}
  },
  {
   "cell_type": "code",
   "execution_count": null,
   "source": [],
   "outputs": [],
   "metadata": {
    "collapsed": true
   }
  }
 ],
 "metadata": {
  "kernelspec": {
   "name": "python3",
   "display_name": "Python 3.8.8 64-bit ('ai': conda)"
  },
  "language_info": {
   "codemirror_mode": {
    "name": "ipython",
    "version": 3
   },
   "file_extension": ".py",
   "mimetype": "text/x-python",
   "name": "python",
   "nbconvert_exporter": "python",
   "pygments_lexer": "ipython3",
   "version": "3.8.8"
  },
  "interpreter": {
   "hash": "9a218fb6fa014a8f72ce325aebf04a6f21a0e826936a53fcb85ad8c9407f4dc2"
  }
 },
 "nbformat": 4,
 "nbformat_minor": 2
}