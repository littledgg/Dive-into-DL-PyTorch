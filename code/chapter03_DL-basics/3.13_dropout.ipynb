{
 "cells": [
  {
   "cell_type": "code",
   "execution_count": 1,
   "source": [
    "%matplotlib inline\r\n",
    "import torch\r\n",
    "import torch.nn as nn\r\n",
    "import numpy as np\r\n",
    "import sys\r\n",
    "sys.path.append(\"..\") \r\n",
    "import d2lzh_pytorch as d2l\r\n",
    "\r\n",
    "print(torch.__version__)"
   ],
   "outputs": [
    {
     "output_type": "stream",
     "name": "stdout",
     "text": [
      "1.8.0\n"
     ]
    }
   ],
   "metadata": {}
  },
  {
   "cell_type": "code",
   "execution_count": 2,
   "source": [
    "def dropout(X, drop_prob):\r\n",
    "    X = X.float()\r\n",
    "    assert 0 <= drop_prob <= 1\r\n",
    "    keep_prob = 1 - drop_prob\r\n",
    "    # 这种情况下把全部元素都丢弃\r\n",
    "    if keep_prob == 0:\r\n",
    "        return torch.zeros_like(X)\r\n",
    "    mask = (torch.rand(X.shape) < keep_prob).float()\r\n",
    "    \r\n",
    "    return mask * X / keep_prob"
   ],
   "outputs": [],
   "metadata": {
    "collapsed": true
   }
  },
  {
   "cell_type": "code",
   "execution_count": 3,
   "source": [
    "X = torch.arange(16).view(2, 8)\r\n",
    "dropout(X, 0)"
   ],
   "outputs": [
    {
     "output_type": "execute_result",
     "data": {
      "text/plain": [
       "tensor([[ 0.,  1.,  2.,  3.,  4.,  5.,  6.,  7.],\n",
       "        [ 8.,  9., 10., 11., 12., 13., 14., 15.]])"
      ]
     },
     "metadata": {},
     "execution_count": 3
    }
   ],
   "metadata": {}
  },
  {
   "cell_type": "code",
   "execution_count": 7,
   "source": [
    "dropout(X, 0.5)"
   ],
   "outputs": [
    {
     "output_type": "execute_result",
     "data": {
      "text/plain": [
       "tensor([[ 0.,  0.,  4.,  6.,  8.,  0., 12.,  0.],\n",
       "        [ 0.,  0., 20., 22., 24., 26., 28., 30.]])"
      ]
     },
     "metadata": {},
     "execution_count": 7
    }
   ],
   "metadata": {}
  },
  {
   "cell_type": "code",
   "execution_count": 8,
   "source": [
    "dropout(X, 1.0)"
   ],
   "outputs": [
    {
     "output_type": "execute_result",
     "data": {
      "text/plain": [
       "tensor([[0., 0., 0., 0., 0., 0., 0., 0.],\n",
       "        [0., 0., 0., 0., 0., 0., 0., 0.]])"
      ]
     },
     "metadata": {},
     "execution_count": 8
    }
   ],
   "metadata": {}
  },
  {
   "cell_type": "code",
   "execution_count": 9,
   "source": [
    "num_inputs, num_outputs, num_hiddens1, num_hiddens2 = 784, 10, 256, 256\r\n",
    "\r\n",
    "W1 = torch.tensor(np.random.normal(0, 0.01, size=(num_inputs, num_hiddens1)), dtype=torch.float, requires_grad=True)\r\n",
    "b1 = torch.zeros(num_hiddens1, requires_grad=True)\r\n",
    "W2 = torch.tensor(np.random.normal(0, 0.01, size=(num_hiddens1, num_hiddens2)), dtype=torch.float, requires_grad=True)\r\n",
    "b2 = torch.zeros(num_hiddens2, requires_grad=True)\r\n",
    "W3 = torch.tensor(np.random.normal(0, 0.01, size=(num_hiddens2, num_outputs)), dtype=torch.float, requires_grad=True)\r\n",
    "b3 = torch.zeros(num_outputs, requires_grad=True)\r\n",
    "\r\n",
    "params = [W1, b1, W2, b2, W3, b3]"
   ],
   "outputs": [],
   "metadata": {
    "collapsed": true
   }
  },
  {
   "cell_type": "code",
   "execution_count": 10,
   "source": [
    "drop_prob1, drop_prob2 = 0.2, 0.5\r\n",
    "\r\n",
    "def net(X, is_training=True):\r\n",
    "    X = X.view(-1, num_inputs)\r\n",
    "    H1 = (torch.matmul(X, W1) + b1).relu()\r\n",
    "    if is_training:  # 只在训练模型时使用丢弃法\r\n",
    "        H1 = dropout(H1, drop_prob1)  # 在第一层全连接后添加丢弃层\r\n",
    "    H2 = (torch.matmul(H1, W2) + b2).relu()\r\n",
    "    if is_training:\r\n",
    "        H2 = dropout(H2, drop_prob2)  # 在第二层全连接后添加丢弃层\r\n",
    "    return torch.matmul(H2, W3) + b3"
   ],
   "outputs": [],
   "metadata": {
    "collapsed": true
   }
  },
  {
   "cell_type": "code",
   "execution_count": 8,
   "source": [
    " #def evaluate_accuracy(data_iter, net):\r\n",
    " #    acc_sum, n = 0.0, 0\r\n",
    " #    for X, y in data_iter:\r\n",
    " #        if isinstance(net, torch.nn.Module):\r\n",
    " #            net.eval() # 评估模式, 这会关闭dropout\r\n",
    " #            acc_sum += (net(X).argmax(dim=1) == y).float().sum().item()\r\n",
    " #            net.train() # 改回训练模式\r\n",
    " #        else: # 自定义的模型\r\n",
    " #            if('is_training' in net.__code__.co_varnames): # 如果有is_training这个参数\r\n",
    " #                # 将is_training设置成False\r\n",
    " #                acc_sum += (net(X, is_training=False).argmax(dim=1) == y).float().sum().item() \r\n",
    " #            else:\r\n",
    " #                acc_sum += (net(X).argmax(dim=1) == y).float().sum().item() \r\n",
    " #        n += y.shape[0]\r\n",
    " #    return acc_sum / n"
   ],
   "outputs": [],
   "metadata": {
    "collapsed": true
   }
  },
  {
   "cell_type": "code",
   "execution_count": 11,
   "source": [
    "num_epochs, lr, batch_size = 5, 100.0, 256 # 这里的学习率设置的很大，原因同3.9.6节。\r\n",
    "loss = torch.nn.CrossEntropyLoss()\r\n",
    "train_iter, test_iter = d2l.load_data_fashion_mnist(batch_size)\r\n",
    "d2l.train_ch3(net, train_iter, test_iter, loss, num_epochs, batch_size, params, lr)"
   ],
   "outputs": [
    {
     "output_type": "stream",
     "name": "stdout",
     "text": [
      "epoch 1, loss 0.0047, train acc 0.536, test acc 0.768\n",
      "epoch 2, loss 0.0023, train acc 0.782, test acc 0.806\n",
      "epoch 3, loss 0.0019, train acc 0.822, test acc 0.781\n",
      "epoch 4, loss 0.0017, train acc 0.839, test acc 0.792\n",
      "epoch 5, loss 0.0016, train acc 0.849, test acc 0.816\n"
     ]
    }
   ],
   "metadata": {}
  },
  {
   "cell_type": "code",
   "execution_count": 12,
   "source": [
    "net = nn.Sequential(\r\n",
    "        d2l.FlattenLayer(),\r\n",
    "        nn.Linear(num_inputs, num_hiddens1),\r\n",
    "        nn.ReLU(),\r\n",
    "        nn.Dropout(drop_prob1),\r\n",
    "        nn.Linear(num_hiddens1, num_hiddens2), \r\n",
    "        nn.ReLU(),\r\n",
    "        nn.Dropout(drop_prob2),\r\n",
    "        nn.Linear(num_hiddens2, 10)\r\n",
    "        )\r\n",
    "\r\n",
    "for param in net.parameters():\r\n",
    "    nn.init.normal_(param, mean=0, std=0.01)"
   ],
   "outputs": [],
   "metadata": {
    "collapsed": true
   }
  },
  {
   "cell_type": "code",
   "execution_count": 13,
   "source": [
    "optimizer = torch.optim.SGD(net.parameters(), lr=0.5)\r\n",
    "d2l.train_ch3(net, train_iter, test_iter, loss, num_epochs, batch_size, None, None, optimizer)"
   ],
   "outputs": [
    {
     "output_type": "stream",
     "name": "stdout",
     "text": [
      "epoch 1, loss 0.0046, train acc 0.542, test acc 0.696\n",
      "epoch 2, loss 0.0023, train acc 0.776, test acc 0.788\n",
      "epoch 3, loss 0.0020, train acc 0.813, test acc 0.819\n",
      "epoch 4, loss 0.0018, train acc 0.833, test acc 0.823\n",
      "epoch 5, loss 0.0017, train acc 0.844, test acc 0.843\n"
     ]
    }
   ],
   "metadata": {}
  },
  {
   "cell_type": "code",
   "execution_count": null,
   "source": [],
   "outputs": [],
   "metadata": {
    "collapsed": true
   }
  }
 ],
 "metadata": {
  "kernelspec": {
   "name": "python3",
   "display_name": "Python 3.8.8 64-bit ('ai': conda)"
  },
  "language_info": {
   "codemirror_mode": {
    "name": "ipython",
    "version": 3
   },
   "file_extension": ".py",
   "mimetype": "text/x-python",
   "name": "python",
   "nbconvert_exporter": "python",
   "pygments_lexer": "ipython3",
   "version": "3.8.8"
  },
  "interpreter": {
   "hash": "9a218fb6fa014a8f72ce325aebf04a6f21a0e826936a53fcb85ad8c9407f4dc2"
  }
 },
 "nbformat": 4,
 "nbformat_minor": 2
}