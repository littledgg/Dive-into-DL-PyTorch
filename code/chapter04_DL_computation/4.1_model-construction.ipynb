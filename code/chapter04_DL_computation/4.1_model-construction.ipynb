{
 "cells": [
  {
   "cell_type": "markdown",
   "source": [
    "# 4.1 模型构造"
   ],
   "metadata": {}
  },
  {
   "cell_type": "code",
   "execution_count": 1,
   "source": [
    "import torch\r\n",
    "from torch import nn\r\n",
    "\r\n",
    "print(torch.__version__)"
   ],
   "outputs": [
    {
     "output_type": "stream",
     "name": "stdout",
     "text": [
      "1.8.0\n"
     ]
    }
   ],
   "metadata": {}
  },
  {
   "cell_type": "markdown",
   "source": [
    "## 4.1.1 继承`Module`类来构造模型"
   ],
   "metadata": {}
  },
  {
   "cell_type": "code",
   "execution_count": 2,
   "source": [
    "class MLP(nn.Module):\r\n",
    "    # 声明带有模型参数的层，这里声明了两个全连接层\r\n",
    "    def __init__(self, **kwargs):\r\n",
    "        # 调用MLP父类Block的构造函数来进行必要的初始化。这样在构造实例时还可以指定其他函数\r\n",
    "        # 参数，如“模型参数的访问、初始化和共享”一节将介绍的模型参数params\r\n",
    "        super(MLP, self).__init__(**kwargs)\r\n",
    "        self.hidden = nn.Linear(784, 256) # 隐藏层\r\n",
    "        self.act = nn.ReLU()\r\n",
    "        self.output = nn.Linear(256, 10)  # 输出层\r\n",
    "         \r\n",
    "\r\n",
    "    # 定义模型的前向计算，即如何根据输入x计算返回所需要的模型输出\r\n",
    "    def forward(self, x):\r\n",
    "        a = self.act(self.hidden(x))\r\n",
    "        return self.output(a)"
   ],
   "outputs": [],
   "metadata": {
    "collapsed": true
   }
  },
  {
   "cell_type": "code",
   "execution_count": 3,
   "source": [
    "X = torch.rand(2, 784)\r\n",
    "net = MLP()\r\n",
    "print(net)\r\n",
    "net(X)"
   ],
   "outputs": [
    {
     "output_type": "stream",
     "name": "stdout",
     "text": [
      "MLP(\n",
      "  (hidden): Linear(in_features=784, out_features=256, bias=True)\n",
      "  (act): ReLU()\n",
      "  (output): Linear(in_features=256, out_features=10, bias=True)\n",
      ")\n"
     ]
    },
    {
     "output_type": "execute_result",
     "data": {
      "text/plain": [
       "tensor([[ 0.1876, -0.1671, -0.0319,  0.2142,  0.0506,  0.0739,  0.1845,  0.1107,\n",
       "          0.2587, -0.1002],\n",
       "        [ 0.1794, -0.0963, -0.1224,  0.2314, -0.0268,  0.1159,  0.1139,  0.0674,\n",
       "          0.1597, -0.1031]], grad_fn=<AddmmBackward>)"
      ]
     },
     "metadata": {},
     "execution_count": 3
    }
   ],
   "metadata": {}
  },
  {
   "cell_type": "markdown",
   "source": [
    "## 4.1.2 `Module`的子类\n",
    "### 4.1.2.1 `Sequential`类"
   ],
   "metadata": {}
  },
  {
   "cell_type": "code",
   "execution_count": 4,
   "source": [
    "class MySequential(nn.Module):\r\n",
    "    from collections import OrderedDict\r\n",
    "    def __init__(self, *args):\r\n",
    "        super(MySequential, self).__init__()\r\n",
    "        if len(args) == 1 and isinstance(args[0], OrderedDict): # 如果传入的是一个OrderedDict\r\n",
    "            for key, module in args[0].items():\r\n",
    "                self.add_module(key, module)  # add_module方法会将module添加进self._modules(一个OrderedDict)\r\n",
    "        else:  # 传入的是一些Module\r\n",
    "            for idx, module in enumerate(args):\r\n",
    "                self.add_module(str(idx), module)\r\n",
    "    def forward(self, input):\r\n",
    "        # self._modules返回一个 OrderedDict，保证会按照成员添加时的顺序遍历成\r\n",
    "        for module in self._modules.values():\r\n",
    "            input = module(input)\r\n",
    "        return input"
   ],
   "outputs": [],
   "metadata": {
    "collapsed": true
   }
  },
  {
   "cell_type": "code",
   "execution_count": 5,
   "source": [
    "net = MySequential(\r\n",
    "        nn.Linear(784, 256),\r\n",
    "        nn.ReLU(),\r\n",
    "        nn.Linear(256, 10), \r\n",
    "        )\r\n",
    "print(net)\r\n",
    "net(X)"
   ],
   "outputs": [
    {
     "output_type": "stream",
     "name": "stdout",
     "text": [
      "MySequential(\n",
      "  (0): Linear(in_features=784, out_features=256, bias=True)\n",
      "  (1): ReLU()\n",
      "  (2): Linear(in_features=256, out_features=10, bias=True)\n",
      ")\n"
     ]
    },
    {
     "output_type": "execute_result",
     "data": {
      "text/plain": [
       "tensor([[-0.0719, -0.0389,  0.0634, -0.0477, -0.0747, -0.1160, -0.1289,  0.1075,\n",
       "         -0.2260,  0.4421],\n",
       "        [-0.0417, -0.1525,  0.0710, -0.0223,  0.0412, -0.1453, -0.0543,  0.0572,\n",
       "         -0.1087,  0.3849]], grad_fn=<AddmmBackward>)"
      ]
     },
     "metadata": {},
     "execution_count": 5
    }
   ],
   "metadata": {}
  },
  {
   "cell_type": "markdown",
   "source": [
    "### 4.1.2.2 `ModuleList`类"
   ],
   "metadata": {}
  },
  {
   "cell_type": "code",
   "execution_count": 6,
   "source": [
    "net = nn.ModuleList([nn.Linear(784, 256), nn.ReLU()])\r\n",
    "net.append(nn.Linear(256, 10)) # # 类似List的append操作\r\n",
    "print(net[-1])  # 类似List的索引访问\r\n",
    "print(net)"
   ],
   "outputs": [
    {
     "output_type": "stream",
     "name": "stdout",
     "text": [
      "Linear(in_features=256, out_features=10, bias=True)\n",
      "ModuleList(\n",
      "  (0): Linear(in_features=784, out_features=256, bias=True)\n",
      "  (1): ReLU()\n",
      "  (2): Linear(in_features=256, out_features=10, bias=True)\n",
      ")\n"
     ]
    }
   ],
   "metadata": {}
  },
  {
   "cell_type": "code",
   "execution_count": 7,
   "source": [
    "# net(torch.zeros(1, 784)) # 会报NotImplementedError"
   ],
   "outputs": [],
   "metadata": {}
  },
  {
   "cell_type": "code",
   "execution_count": 8,
   "source": [
    "class MyModule(nn.Module):\r\n",
    "    def __init__(self):\r\n",
    "        super(MyModule, self).__init__()\r\n",
    "        self.linears = nn.ModuleList([nn.Linear(10, 10) for i in range(10)])\r\n",
    "\r\n",
    "    def forward(self, x):\r\n",
    "        # ModuleList can act as an iterable, or be indexed using ints\r\n",
    "        for i, l in enumerate(self.linears):\r\n",
    "            x = self.linears[i // 2](x) + l(x)\r\n",
    "        return x"
   ],
   "outputs": [],
   "metadata": {
    "collapsed": true
   }
  },
  {
   "cell_type": "code",
   "execution_count": 9,
   "source": [
    "class Module_ModuleList(nn.Module):\r\n",
    "    def __init__(self):\r\n",
    "        super(Module_ModuleList, self).__init__()\r\n",
    "        self.linears = nn.ModuleList([nn.Linear(10, 10)])\r\n",
    "    \r\n",
    "class Module_List(nn.Module):\r\n",
    "    def __init__(self):\r\n",
    "        super(Module_List, self).__init__()\r\n",
    "        self.linears = [nn.Linear(10, 10)]\r\n",
    "\r\n",
    "net1 = Module_ModuleList()\r\n",
    "net2 = Module_List()\r\n",
    "\r\n",
    "print(\"net1:\")\r\n",
    "for p in net1.parameters():\r\n",
    "    print(p.size())\r\n",
    "\r\n",
    "print(\"net2:\")\r\n",
    "for p in net2.parameters():\r\n",
    "    print(p)"
   ],
   "outputs": [
    {
     "output_type": "stream",
     "name": "stdout",
     "text": [
      "net1:\n",
      "torch.Size([10, 10])\n",
      "torch.Size([10])\n",
      "net2:\n"
     ]
    }
   ],
   "metadata": {}
  },
  {
   "cell_type": "markdown",
   "source": [
    "### 4.1.2.3 `ModuleDict`类"
   ],
   "metadata": {}
  },
  {
   "cell_type": "code",
   "execution_count": 10,
   "source": [
    "net = nn.ModuleDict({\r\n",
    "    'linear': nn.Linear(784, 256),\r\n",
    "    'act': nn.ReLU(),\r\n",
    "})\r\n",
    "net['output'] = nn.Linear(256, 10) # 添加\r\n",
    "print(net['linear']) # 访问\r\n",
    "print(net.output)\r\n",
    "print(net)"
   ],
   "outputs": [
    {
     "output_type": "stream",
     "name": "stdout",
     "text": [
      "Linear(in_features=784, out_features=256, bias=True)\n",
      "Linear(in_features=256, out_features=10, bias=True)\n",
      "ModuleDict(\n",
      "  (linear): Linear(in_features=784, out_features=256, bias=True)\n",
      "  (act): ReLU()\n",
      "  (output): Linear(in_features=256, out_features=10, bias=True)\n",
      ")\n"
     ]
    }
   ],
   "metadata": {}
  },
  {
   "cell_type": "code",
   "execution_count": 11,
   "source": [
    "# net(torch.zeros(1, 784)) # 会报NotImplementedError"
   ],
   "outputs": [],
   "metadata": {}
  },
  {
   "cell_type": "markdown",
   "source": [
    "## 4.1.3 构造复杂的模型"
   ],
   "metadata": {}
  },
  {
   "cell_type": "code",
   "execution_count": 12,
   "source": [
    "class FancyMLP(nn.Module):\r\n",
    "    def __init__(self, **kwargs):\r\n",
    "        super(FancyMLP, self).__init__(**kwargs)\r\n",
    "        \r\n",
    "        self.rand_weight = torch.rand((20, 20), requires_grad=False) # 不可训练参数（常数参数）\r\n",
    "        self.linear = nn.Linear(20, 20)\r\n",
    "\r\n",
    "    def forward(self, x):\r\n",
    "        x = self.linear(x)\r\n",
    "        # 使用创建的常数参数，以及nn.functional中的relu函数和mm函数\r\n",
    "        x = nn.functional.relu(torch.mm(x, self.rand_weight.data) + 1)\r\n",
    "        \r\n",
    "        # 复用全连接层。等价于两个全连接层共享参数\r\n",
    "        x = self.linear(x)\r\n",
    "        # 控制流，这里我们需要调用item函数来返回标量进行比较\r\n",
    "        while x.norm().item() > 1:\r\n",
    "            x /= 2\r\n",
    "        if x.norm().item() < 0.8:\r\n",
    "            x *= 10\r\n",
    "        return x.sum()"
   ],
   "outputs": [],
   "metadata": {
    "collapsed": true
   }
  },
  {
   "cell_type": "code",
   "execution_count": 13,
   "source": [
    "X = torch.rand(2, 20)\r\n",
    "net = FancyMLP()\r\n",
    "print(net)\r\n",
    "net(X)"
   ],
   "outputs": [
    {
     "output_type": "stream",
     "name": "stdout",
     "text": [
      "FancyMLP(\n",
      "  (linear): Linear(in_features=20, out_features=20, bias=True)\n",
      ")\n"
     ]
    },
    {
     "output_type": "execute_result",
     "data": {
      "text/plain": [
       "tensor(5.9044, grad_fn=<SumBackward0>)"
      ]
     },
     "metadata": {},
     "execution_count": 13
    }
   ],
   "metadata": {}
  },
  {
   "cell_type": "code",
   "execution_count": 14,
   "source": [
    "class NestMLP(nn.Module):\r\n",
    "    def __init__(self, **kwargs):\r\n",
    "        super(NestMLP, self).__init__(**kwargs)\r\n",
    "        self.net = nn.Sequential(nn.Linear(40, 30), nn.ReLU()) \r\n",
    "\r\n",
    "    def forward(self, x):\r\n",
    "        return self.net(x)\r\n",
    "\r\n",
    "net = nn.Sequential(NestMLP(), nn.Linear(30, 20), FancyMLP())\r\n",
    "\r\n",
    "X = torch.rand(2, 40)\r\n",
    "print(net)\r\n",
    "net(X)"
   ],
   "outputs": [
    {
     "output_type": "stream",
     "name": "stdout",
     "text": [
      "Sequential(\n",
      "  (0): NestMLP(\n",
      "    (net): Sequential(\n",
      "      (0): Linear(in_features=40, out_features=30, bias=True)\n",
      "      (1): ReLU()\n",
      "    )\n",
      "  )\n",
      "  (1): Linear(in_features=30, out_features=20, bias=True)\n",
      "  (2): FancyMLP(\n",
      "    (linear): Linear(in_features=20, out_features=20, bias=True)\n",
      "  )\n",
      ")\n"
     ]
    },
    {
     "output_type": "execute_result",
     "data": {
      "text/plain": [
       "tensor(-7.4661, grad_fn=<SumBackward0>)"
      ]
     },
     "metadata": {},
     "execution_count": 14
    }
   ],
   "metadata": {}
  },
  {
   "cell_type": "code",
   "execution_count": null,
   "source": [],
   "outputs": [],
   "metadata": {
    "collapsed": true
   }
  }
 ],
 "metadata": {
  "kernelspec": {
   "name": "python3",
   "display_name": "Python 3.8.8 64-bit ('ai': conda)"
  },
  "language_info": {
   "codemirror_mode": {
    "name": "ipython",
    "version": 3
   },
   "file_extension": ".py",
   "mimetype": "text/x-python",
   "name": "python",
   "nbconvert_exporter": "python",
   "pygments_lexer": "ipython3",
   "version": "3.8.8"
  },
  "interpreter": {
   "hash": "9a218fb6fa014a8f72ce325aebf04a6f21a0e826936a53fcb85ad8c9407f4dc2"
  }
 },
 "nbformat": 4,
 "nbformat_minor": 2
}